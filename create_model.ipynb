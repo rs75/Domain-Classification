{
 "cells": [
  {
   "cell_type": "markdown",
   "metadata": {},
   "source": [
    "## Train prediction model\n",
    "This notebook shows how to train the model. "
   ]
  },
  {
   "cell_type": "code",
   "execution_count": 47,
   "metadata": {
    "colab": {
     "base_uri": "https://localhost:8080/",
     "height": 80
    },
    "colab_type": "code",
    "id": "NH7Wn5yFp2sS",
    "outputId": "a037cc46-6d99-407d-d19a-3df8ed9c43a6"
   },
   "outputs": [],
   "source": [
    "import pandas as pd\n",
    "import numpy as np\n",
    "\n",
    "from sklearn.model_selection import train_test_split\n",
    "\n",
    "import tensorflow as tf\n",
    "from tensorflow.keras.models import Sequential\n",
    "from tensorflow.keras.layers import Dense, Dropout, Activation\n",
    "from tensorflow.keras.layers import LSTM, Dense, Input, Embedding,PReLU\n",
    "from tensorflow.keras.optimizers import Adam\n",
    "from tensorflow.keras.models import Model,load_model\n",
    "tf.keras.backend.clear_session()"
   ]
  },
  {
   "cell_type": "markdown",
   "metadata": {
    "colab_type": "text",
    "id": "3j_ELXbDq1lW"
   },
   "source": [
    "Load Dataset"
   ]
  },
  {
   "cell_type": "code",
   "execution_count": 34,
   "metadata": {
    "colab": {},
    "colab_type": "code",
    "id": "OcKx6wy2q9kA"
   },
   "outputs": [],
   "source": [
    "df  = pd.read_csv('domain_category_dataset.csv')"
   ]
  },
  {
   "cell_type": "code",
   "execution_count": 35,
   "metadata": {
    "colab": {},
    "colab_type": "code",
    "id": "_NrM3B6Fq4HZ"
   },
   "outputs": [],
   "source": [
    "categories  = np.unique(df['category'].values)\n",
    "category_to_number = { x : i for i,x in enumerate(categories)}\n",
    "n_categories = len(category_to_number)\n",
    "number_to_ncategory = { i : x for i,x in enumerate(categories)}\n",
    "df['category2'] = df['category'].map(category_to_number)\n",
    "\n",
    "unique_chars =  list(set(' '.join(df['domain'].values)))\n",
    "n_chars = len(unique_chars)\n",
    "char_to_number = { x : i+1 for i,x in enumerate(unique_chars)}\n",
    "number_to_char = { i+1 : x for i,x in enumerate(unique_chars)}"
   ]
  },
  {
   "cell_type": "code",
   "execution_count": 36,
   "metadata": {
    "colab": {},
    "colab_type": "code",
    "id": "kaATBuOwq5HZ"
   },
   "outputs": [],
   "source": [
    "get_x_and_y = lambda dataset :   (dataset['domain'].values, dataset['category2'].values)\n",
    "def preprocess (dataset):\n",
    "    x, y = get_x_and_y(dataset)\n",
    "    \n",
    "    x_new = np.array([[0 for c in range(30-len(row))]+[char_to_number[c] for c in list(row)[:-4]] for row in x])\n",
    "    convert_table_x = np.eye(n_chars+1)    \n",
    "    x_new = convert_table_x[x_new]\n",
    "    \n",
    "    convert_table_y = np.eye(n_categories)    \n",
    "    y_new  = convert_table_y[y]\n",
    "    \n",
    "    return x_new, y_new"
   ]
  },
  {
   "cell_type": "markdown",
   "metadata": {},
   "source": [
    "Create train test and validation datasets"
   ]
  },
  {
   "cell_type": "code",
   "execution_count": 37,
   "metadata": {
    "colab": {},
    "colab_type": "code",
    "id": "AazVEqzkrH4y"
   },
   "outputs": [],
   "source": [
    "train, test = train_test_split(df, test_size=0.1)\n",
    "train, eva = train_test_split(train, test_size=0.1)\n",
    "x_train, y_train = preprocess(train)\n",
    "x_val, y_val = preprocess(eva)\n",
    "x_test, y_test = preprocess(test)"
   ]
  },
  {
   "cell_type": "markdown",
   "metadata": {},
   "source": [
    "Define the model"
   ]
  },
  {
   "cell_type": "code",
   "execution_count": 38,
   "metadata": {
    "colab": {},
    "colab_type": "code",
    "id": "3zC39MznrKbb"
   },
   "outputs": [],
   "source": [
    "vocab_size = n_chars\n",
    "inputs = Input(shape=(x_train.shape[1],n_chars+1))\n",
    "model = LSTM(256,return_sequences = False)(inputs)\n",
    "#model = LSTM(128,return_sequences = False)(model)\n",
    "model = Dense(16,activation = PReLU())(model)\n",
    "predictions = Dense(n_categories,activation = 'softmax')(model)"
   ]
  },
  {
   "cell_type": "code",
   "execution_count": 39,
   "metadata": {
    "colab": {},
    "colab_type": "code",
    "id": "FAm4uyt_rVE4"
   },
   "outputs": [],
   "source": [
    "model = Model(inputs=inputs, outputs=predictions)\n",
    "model.compile(loss='categorical_crossentropy',\n",
    "              optimizer='adam',\n",
    "              metrics=['accuracy'])"
   ]
  },
  {
   "cell_type": "code",
   "execution_count": null,
   "metadata": {
    "colab": {
     "base_uri": "https://localhost:8080/",
     "height": 613
    },
    "colab_type": "code",
    "id": "rhG8MVcxsUos",
    "outputId": "6f67710f-6da4-4d6d-98c0-2fe4a07a60c3"
   },
   "outputs": [],
   "source": [
    "model.fit(x = x_train, y  = y_train,epochs=15,\n",
    "          batch_size=128,validation_data=(x_val,y_val))"
   ]
  },
  {
   "cell_type": "code",
   "execution_count": 40,
   "metadata": {
    "colab": {
     "base_uri": "https://localhost:8080/",
     "height": 289
    },
    "colab_type": "code",
    "id": "vcywqiKqtLb5",
    "outputId": "b3a897d7-b5c9-4edf-ddd5-99d3a7059be8"
   },
   "outputs": [
    {
     "name": "stdout",
     "output_type": "stream",
     "text": [
      "_________________________________________________________________\n",
      "Layer (type)                 Output Shape              Param #   \n",
      "=================================================================\n",
      "input_1 (InputLayer)         (None, 26, 40)            0         \n",
      "_________________________________________________________________\n",
      "lstm (LSTM)                  (None, 256)               304128    \n",
      "_________________________________________________________________\n",
      "dense (Dense)                (None, 16)                4128      \n",
      "_________________________________________________________________\n",
      "dense_1 (Dense)              (None, 15)                255       \n",
      "=================================================================\n",
      "Total params: 308,511\n",
      "Trainable params: 308,511\n",
      "Non-trainable params: 0\n",
      "_________________________________________________________________\n"
     ]
    }
   ],
   "source": [
    "model.summary()"
   ]
  },
  {
   "cell_type": "code",
   "execution_count": null,
   "metadata": {},
   "outputs": [],
   "source": [
    "model.evaluate(x_test, y_test) # Output should be something around 52%"
   ]
  }
 ],
 "metadata": {
  "accelerator": "GPU",
  "colab": {
   "machine_shape": "hm",
   "name": "domain_category.ipynb",
   "provenance": []
  },
  "kernelspec": {
   "display_name": "Python 3",
   "language": "python",
   "name": "python3"
  },
  "language_info": {
   "codemirror_mode": {
    "name": "ipython",
    "version": 3
   },
   "file_extension": ".py",
   "mimetype": "text/x-python",
   "name": "python",
   "nbconvert_exporter": "python",
   "pygments_lexer": "ipython3",
   "version": "3.7.2"
  }
 },
 "nbformat": 4,
 "nbformat_minor": 2
}
